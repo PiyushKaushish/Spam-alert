{
 "cells": [
  {
   "cell_type": "code",
   "execution_count": 352,
   "id": "3b7f24e3",
   "metadata": {},
   "outputs": [],
   "source": [
    "import mysql.connector\n",
    "from mysql.connector import Error\n",
    "import pandas as pd"
   ]
  },
  {
   "cell_type": "code",
   "execution_count": 353,
   "id": "0181d808",
   "metadata": {},
   "outputs": [
    {
     "name": "stdout",
     "output_type": "stream",
     "text": [
      "MySQL Database connection successful!\n"
     ]
    }
   ],
   "source": [
    "def create_server_connection(host_name, user_name, user_password):\n",
    "    connection = None\n",
    "    try:\n",
    "        connection = mysql.connector.connect(\n",
    "            host = host_name,\n",
    "            user = user_name,\n",
    "            passwd = user_password)\n",
    "        print(\"MySQL Database connection successful!\")\n",
    "    except Error as err:\n",
    "        print(f\"Error: '{err}'\")\n",
    "    return connection\n",
    "\n",
    "#put our MySQL Terminal password\n",
    "\n",
    "pw = \"16020byaadav\"\n",
    "\n",
    "#Database name\n",
    "db = 'mysql_python'\n",
    "connection = create_server_connection(\"localhost\",\"root\",pw)\n"
   ]
  },
  {
   "cell_type": "code",
   "execution_count": 354,
   "id": "30291b9b",
   "metadata": {},
   "outputs": [
    {
     "name": "stdout",
     "output_type": "stream",
     "text": [
      "Error: '1007 (HY000): Can't create database 'mysql_python'; database exists'\n"
     ]
    }
   ],
   "source": [
    "#create mysql_python\n",
    "\n",
    "def create_database(connection, query):\n",
    "    cursor = connection.cursor()\n",
    "    try:\n",
    "        cursor.execute(query)\n",
    "        print(\"Database created successfully!\")\n",
    "        \n",
    "    except Error as err:\n",
    "        print(f\"Error: '{err}'\")\n",
    "        \n",
    "create_database_query = \"Create database mysql_python\"\n",
    "create_database(connection,create_database_query)\n",
    "        "
   ]
  },
  {
   "cell_type": "code",
   "execution_count": 355,
   "id": "fcf97506",
   "metadata": {},
   "outputs": [],
   "source": [
    "def create_db_connection(host_name, user_name, user_password, db_name):\n",
    "    connection = None\n",
    "    try:\n",
    "        connection = mysql.connector.connect(\n",
    "            host = host_name,\n",
    "            user = user_name,\n",
    "            passwd = user_password,\n",
    "            database = db_name)\n",
    "        print(\"MySQL Database connection successful!\")\n",
    "    \n",
    "    except Error as err:\n",
    "        print(f\"Error: '{err}'\")\n",
    "        \n",
    "    return connection\n",
    "    "
   ]
  },
  {
   "cell_type": "code",
   "execution_count": 356,
   "id": "97c62e87",
   "metadata": {},
   "outputs": [],
   "source": [
    "#Execute SQL Queries\n",
    "def execute_query(connection, query):\n",
    "    cursor = connection.cursor()\n",
    "    try:\n",
    "        cursor.execute(query)\n",
    "        connection.commit()\n",
    "        print(\"Query was successful!\")\n",
    "        \n",
    "    except Error as err:\n",
    "        print(f\"Error: '{err}'\")\n",
    "        "
   ]
  },
  {
   "cell_type": "code",
   "execution_count": 357,
   "id": "434e8379",
   "metadata": {},
   "outputs": [
    {
     "name": "stdout",
     "output_type": "stream",
     "text": [
      "MySQL Database connection successful!\n",
      "Error: '1050 (42S01): Table 'spam_list' already exists'\n"
     ]
    }
   ],
   "source": [
    "create_table = \"\"\"\n",
    "create table spam_list(\n",
    "email_id varchar(30) not null,\n",
    "phone_number int not null,\n",
    "spams int not null)\n",
    "\"\"\"\n",
    "\n",
    "#connect to the database\n",
    "connection = create_db_connection(\"localhost\",\"root\",pw,db)\n",
    "execute_query(connection,create_table)"
   ]
  },
  {
   "cell_type": "code",
   "execution_count": 358,
   "id": "eac5ec4e",
   "metadata": {},
   "outputs": [
    {
     "name": "stdout",
     "output_type": "stream",
     "text": [
      "MySQL Database connection successful!\n",
      "Error: '1062 (23000): Duplicate entry '0' for key 'spam_list.PRIMARY''\n"
     ]
    }
   ],
   "source": [
    "#insert data\n",
    "#(No. of spams, email, phone_number)\n",
    "data_orders = \"\"\"\n",
    "insert into spam_list values\n",
    "(0,'abc@gmail.com',6293730802),\n",
    "(2,'xyz@gmail.com',2794562286)\n",
    "\"\"\"\n",
    "\n",
    "connection = create_db_connection(\"localhost\",\"root\",pw,db)\n",
    "execute_query(connection, data_orders)\n"
   ]
  },
  {
   "cell_type": "code",
   "execution_count": 359,
   "id": "8bd2cffd",
   "metadata": {},
   "outputs": [],
   "source": [
    "\n",
    "def read_query(connection,query):\n",
    "    cursor = connection.cursor()\n",
    "    result = None\n",
    "    try:\n",
    "        cursor.execute(query)\n",
    "        result = cursor.fetchall()\n",
    "        return result\n",
    "    \n",
    "    except Error as err:\n",
    "        print(f\"Error: '{err}'\")\n",
    "\n",
    "    \n",
    "    "
   ]
  },
  {
   "cell_type": "code",
   "execution_count": 360,
   "id": "3d48a847",
   "metadata": {},
   "outputs": [
    {
     "name": "stdout",
     "output_type": "stream",
     "text": [
      "MySQL Database connection successful!\n",
      "(0, 'abc@gmail.com', '6293730802')\n",
      "(2, 'xyz@gmail.com', '2794562286')\n"
     ]
    }
   ],
   "source": [
    "#Using the select statement\n",
    "\n",
    "q1 = \"\"\"\n",
    "select * from spam_list;\n",
    "\"\"\"\n",
    "\n",
    "connection = create_db_connection(\"localhost\",\"root\",pw,db)\n",
    "results = read_query(connection,q1)\n",
    "for result in results:\n",
    "    print(result)\n"
   ]
  },
  {
   "cell_type": "code",
   "execution_count": 361,
   "id": "14c7429b",
   "metadata": {},
   "outputs": [
    {
     "data": {
      "text/plain": [
       "'\\nq2 = \"\"\"\\nselect customer_name, phone_number from orders;\\n\"\"\"\\n\\nconnection = create_db_connection(\"localhost\",\"root\",pw,db)\\nresults = read_query(connection,q2)\\nfor result in results:\\n    print(result)\\n'"
      ]
     },
     "execution_count": 361,
     "metadata": {},
     "output_type": "execute_result"
    }
   ],
   "source": [
    "'''\n",
    "q2 = \"\"\"\n",
    "select customer_name, phone_number from orders;\n",
    "\"\"\"\n",
    "\n",
    "connection = create_db_connection(\"localhost\",\"root\",pw,db)\n",
    "results = read_query(connection,q2)\n",
    "for result in results:\n",
    "    print(result)\n",
    "'''"
   ]
  },
  {
   "cell_type": "code",
   "execution_count": 362,
   "id": "0d559056",
   "metadata": {},
   "outputs": [
    {
     "data": {
      "text/plain": [
       "'\\nq3 = \"\"\"\\nselect year(date_ordered) from orders;\\n\"\"\"\\n\\nconnection = create_db_connection(\"localhost\",\"root\",pw,db)\\nresults = read_query(connection,q3)\\nfor result in results:\\n    print(result)\\n'"
      ]
     },
     "execution_count": 362,
     "metadata": {},
     "output_type": "execute_result"
    }
   ],
   "source": [
    "'''\n",
    "q3 = \"\"\"\n",
    "select year(date_ordered) from orders;\n",
    "\"\"\"\n",
    "\n",
    "connection = create_db_connection(\"localhost\",\"root\",pw,db)\n",
    "results = read_query(connection,q3)\n",
    "for result in results:\n",
    "    print(result)\n",
    "'''"
   ]
  },
  {
   "cell_type": "code",
   "execution_count": 363,
   "id": "0d00d54e",
   "metadata": {},
   "outputs": [
    {
     "data": {
      "text/plain": [
       "'\\nq4 = \"\"\"\\nselect distinct year(date_ordered) from orders;\\n\"\"\"\\n\\nconnection = create_db_connection(\"localhost\",\"root\",pw,db)\\nresults = read_query(connection,q4)\\nfor result in results:\\n    print(result)\\n'"
      ]
     },
     "execution_count": 363,
     "metadata": {},
     "output_type": "execute_result"
    }
   ],
   "source": [
    "'''\n",
    "q4 = \"\"\"\n",
    "select distinct year(date_ordered) from orders;\n",
    "\"\"\"\n",
    "\n",
    "connection = create_db_connection(\"localhost\",\"root\",pw,db)\n",
    "results = read_query(connection,q4)\n",
    "for result in results:\n",
    "    print(result)\n",
    "'''"
   ]
  },
  {
   "cell_type": "code",
   "execution_count": 364,
   "id": "9dd35c7b",
   "metadata": {},
   "outputs": [
    {
     "data": {
      "text/plain": [
       "'q5 = \"\"\"\\nselect * from orders where date_ordered<\\'2018-12-31\\'\\n\"\"\"\\n\\nconnection = create_db_connection(\"localhost\",\"root\",pw,db)\\nresults = read_query(connection,q5)\\nfor result in results:\\n    print(result)\\n'"
      ]
     },
     "execution_count": 364,
     "metadata": {},
     "output_type": "execute_result"
    }
   ],
   "source": [
    "'''q5 = \"\"\"\n",
    "select * from orders where date_ordered<'2018-12-31'\n",
    "\"\"\"\n",
    "\n",
    "connection = create_db_connection(\"localhost\",\"root\",pw,db)\n",
    "results = read_query(connection,q5)\n",
    "for result in results:\n",
    "    print(result)\n",
    "'''"
   ]
  },
  {
   "cell_type": "code",
   "execution_count": 373,
   "id": "13ce77da",
   "metadata": {},
   "outputs": [
    {
     "data": {
      "text/html": [
       "<div>\n",
       "<style scoped>\n",
       "    .dataframe tbody tr th:only-of-type {\n",
       "        vertical-align: middle;\n",
       "    }\n",
       "\n",
       "    .dataframe tbody tr th {\n",
       "        vertical-align: top;\n",
       "    }\n",
       "\n",
       "    .dataframe thead th {\n",
       "        text-align: right;\n",
       "    }\n",
       "</style>\n",
       "<table border=\"1\" class=\"dataframe\">\n",
       "  <thead>\n",
       "    <tr style=\"text-align: right;\">\n",
       "      <th></th>\n",
       "      <th>No. of spams</th>\n",
       "      <th>Email_id</th>\n",
       "      <th>Phone_number</th>\n",
       "    </tr>\n",
       "  </thead>\n",
       "  <tbody>\n",
       "    <tr>\n",
       "      <th>0</th>\n",
       "      <td>0</td>\n",
       "      <td>abc@gmail.com</td>\n",
       "      <td>6293730802</td>\n",
       "    </tr>\n",
       "    <tr>\n",
       "      <th>1</th>\n",
       "      <td>2</td>\n",
       "      <td>xyz@gmail.com</td>\n",
       "      <td>2794562286</td>\n",
       "    </tr>\n",
       "  </tbody>\n",
       "</table>\n",
       "</div>"
      ],
      "text/plain": [
       "   No. of spams       Email_id Phone_number\n",
       "0             0  abc@gmail.com   6293730802\n",
       "1             2  xyz@gmail.com   2794562286"
      ]
     },
     "metadata": {},
     "output_type": "display_data"
    }
   ],
   "source": [
    "\n",
    "from_db = []\n",
    "for result in results:\n",
    "    result = list(result)\n",
    "    from_db.append(result)\n",
    "    \n",
    "columns = [\"No. of spams\",\"Email_id\",\"Phone_number\"]\n",
    "\n",
    "df = pd.DataFrame(from_db,columns = columns)\n",
    "display(df)\n"
   ]
  },
  {
   "cell_type": "code",
   "execution_count": 366,
   "id": "665997ec",
   "metadata": {},
   "outputs": [
    {
     "data": {
      "text/plain": [
       "'\\nupdate = \"\"\"\\nupdate orders\\nset unit_price = 45\\nwhere order_id = 103\\n\"\"\"\\nconnection = create_db_connection(\"localhost\",\"root\",pw,db)\\nexecute_query(connection,update)\\n'"
      ]
     },
     "execution_count": 366,
     "metadata": {},
     "output_type": "execute_result"
    }
   ],
   "source": [
    "#update command\n",
    "'''\n",
    "update = \"\"\"\n",
    "update orders\n",
    "set unit_price = 45\n",
    "where order_id = 103\n",
    "\"\"\"\n",
    "connection = create_db_connection(\"localhost\",\"root\",pw,db)\n",
    "execute_query(connection,update)\n",
    "'''\n",
    "\n"
   ]
  },
  {
   "cell_type": "code",
   "execution_count": 367,
   "id": "9dbce725",
   "metadata": {},
   "outputs": [
    {
     "data": {
      "text/plain": [
       "'\\nq8 = \"\"\"\\nselect * from orders where order_id = 103;\\n\"\"\"\\n\\nconnection = create_db_connection(\"localhost\",\"root\",pw,db)\\nresults = read_query(connection,q8)\\nfor result in results:\\n    print(result)\\n'"
      ]
     },
     "execution_count": 367,
     "metadata": {},
     "output_type": "execute_result"
    }
   ],
   "source": [
    "'''\n",
    "q8 = \"\"\"\n",
    "select * from orders where order_id = 103;\n",
    "\"\"\"\n",
    "\n",
    "connection = create_db_connection(\"localhost\",\"root\",pw,db)\n",
    "results = read_query(connection,q8)\n",
    "for result in results:\n",
    "    print(result)\n",
    "'''"
   ]
  },
  {
   "cell_type": "code",
   "execution_count": 368,
   "id": "ff831185",
   "metadata": {},
   "outputs": [
    {
     "data": {
      "text/plain": [
       "'\\ndelete_order = \"\"\"\\ndelete from orders\\nwhere order_id = 105\\n\"\"\"\\n\\nconnection = create_db_connection(\"localhost\",\"root\",pw,db)\\nexecute_query(connection,delete_order)\\n'"
      ]
     },
     "execution_count": 368,
     "metadata": {},
     "output_type": "execute_result"
    }
   ],
   "source": [
    "#delete command\n",
    "'''\n",
    "delete_order = \"\"\"\n",
    "delete from orders\n",
    "where order_id = 105\n",
    "\"\"\"\n",
    "\n",
    "connection = create_db_connection(\"localhost\",\"root\",pw,db)\n",
    "execute_query(connection,delete_order)\n",
    "'''"
   ]
  },
  {
   "cell_type": "code",
   "execution_count": 369,
   "id": "1559da12",
   "metadata": {},
   "outputs": [
    {
     "data": {
      "text/plain": [
       "'\\nq9 = \"\"\"\\nselect * from orders;\\n\"\"\"\\n\\nconnection = create_db_connection(\"localhost\",\"root\",pw,db)\\nresults = read_query(connection,q9)\\nfor result in results:\\n    print(result)\\n'"
      ]
     },
     "execution_count": 369,
     "metadata": {},
     "output_type": "execute_result"
    }
   ],
   "source": [
    "'''\n",
    "q9 = \"\"\"\n",
    "select * from orders;\n",
    "\"\"\"\n",
    "\n",
    "connection = create_db_connection(\"localhost\",\"root\",pw,db)\n",
    "results = read_query(connection,q9)\n",
    "for result in results:\n",
    "    print(result)\n",
    "'''"
   ]
  },
  {
   "cell_type": "code",
   "execution_count": null,
   "id": "c63e3f3b",
   "metadata": {},
   "outputs": [],
   "source": []
  }
 ],
 "metadata": {
  "kernelspec": {
   "display_name": "Python 3 (ipykernel)",
   "language": "python",
   "name": "python3"
  },
  "language_info": {
   "codemirror_mode": {
    "name": "ipython",
    "version": 3
   },
   "file_extension": ".py",
   "mimetype": "text/x-python",
   "name": "python",
   "nbconvert_exporter": "python",
   "pygments_lexer": "ipython3",
   "version": "3.10.0"
  }
 },
 "nbformat": 4,
 "nbformat_minor": 5
}
